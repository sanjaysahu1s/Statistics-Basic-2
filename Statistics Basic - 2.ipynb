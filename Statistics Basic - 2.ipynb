{
 "cells": [
  {
   "cell_type": "markdown",
   "id": "847adbb7-db76-4977-981e-bb4bb638709c",
   "metadata": {},
   "source": [
    "Q1. What are the three measures of central tendency?"
   ]
  },
  {
   "cell_type": "markdown",
   "id": "221b87d4-c563-418e-b32d-d368ade95909",
   "metadata": {},
   "source": [
    "#Answer\n",
    "\n",
    "The three measures of central tendency are:\n",
    "\n",
    "1. **Mean**: The mean, also known as the average, is calculated by summing up all the values in a data set and dividing by the number of values. It represents the typical or average value of the data.\n",
    "\n",
    "2. **Median**: The median represents the middle value in a data set when it is arranged in ascending or descending order. It divides the data set into two equal halves, with 50% of the data falling below and 50% above the median. The median is useful when dealing with skewed or non-normally distributed data, as it is less affected by extreme values (outliers) compared to the mean.\n",
    "\n",
    "3. **Mode**: The mode is the value or values that appear most frequently in a data set. Unlike the mean and median, which are concerned with the numerical value, the mode focuses on the frequency of occurrence. A data set may have one mode (unimodal) or multiple modes (bimodal, trimodal, etc.), or it can have no mode if all values are unique or no value repeats.\n",
    "\n",
    "These measures provide different ways to summarize and describe the central tendency or typical value of a data set. They are useful in understanding the distribution and characteristics of the data."
   ]
  },
  {
   "cell_type": "markdown",
   "id": "d768ab2e-88b4-43b3-a1dd-6c72edbb4923",
   "metadata": {},
   "source": [
    "                      -------------------------------------------------------------------"
   ]
  },
  {
   "cell_type": "markdown",
   "id": "491180f2-5135-481c-9aa5-c7f7f6e92a5f",
   "metadata": {},
   "source": [
    "Q2. What is the difference between the mean, median, and mode? How are they used to measure the\n",
    "central tendency of a dataset?"
   ]
  },
  {
   "cell_type": "markdown",
   "id": "215a9b83-eb57-4ec1-850c-5c4c8813d507",
   "metadata": {},
   "source": [
    "#Answer\n",
    "\n",
    "The mean, median, and mode are measures of central tendency used to describe the typical or central value of a dataset. Here's a breakdown of their differences and how they are used:\n",
    "\n",
    "1. **Mean**: The mean is the average value of a dataset. It is calculated by summing up all the values in the dataset and dividing by the total number of values. The mean takes into account the magnitude of each data point. It is widely used in various statistical analyses and is suitable for datasets with a symmetric or approximately normal distribution.\n",
    "\n",
    "2. **Median**: The median represents the middle value in a dataset when it is arranged in ascending or descending order. To find the median, the dataset must first be sorted. If the dataset has an odd number of values, the median is the middle value. If the dataset has an even number of values, the median is the average of the two middle values. The median is less affected by extreme values (outliers) compared to the mean and is useful when dealing with skewed or non-normally distributed data.\n",
    "\n",
    "3. **Mode**: The mode refers to the value or values that appear most frequently in a dataset. It represents the peak or highest point(s) on the distribution curve. Unlike the mean and median, the mode is not concerned with the numerical value but focuses on the frequency of occurrence. The mode is useful in identifying the most common or popular value(s) in a dataset.\n",
    "\n",
    "These measures of central tendency provide different perspectives on the central value of a dataset. The mean is sensitive to extreme values and is suitable for symmetric distributions. The median is less affected by outliers and is appropriate for skewed distributions. The mode identifies the most frequently occurring value(s) and is helpful for categorical or discrete data. By using these measures, analysts can gain insights into the central tendencies and characteristics of a dataset from different angles."
   ]
  },
  {
   "cell_type": "markdown",
   "id": "61e7fe27-1fe2-442b-9990-ddf2b4958328",
   "metadata": {},
   "source": [
    "                      -------------------------------------------------------------------"
   ]
  },
  {
   "cell_type": "markdown",
   "id": "ee58e8fc-6392-4da0-a0c9-2443f93e661c",
   "metadata": {},
   "source": [
    "Q3. Measure the three measures of central tendency for the given height data:\n",
    "\n",
    "[178,177,176,177,178.2,178,175,179,180,175,178.9,176.2,177,172.5,178,176.5]"
   ]
  },
  {
   "cell_type": "code",
   "execution_count": 1,
   "id": "c4a31648-0450-4cfb-939c-2fdc5b78a13c",
   "metadata": {},
   "outputs": [
    {
     "name": "stdout",
     "output_type": "stream",
     "text": [
      "Mean: 177.01875\n",
      "Median: 177.0\n",
      "Mode: 178\n"
     ]
    }
   ],
   "source": [
    "#Answer\n",
    "\n",
    "import statistics\n",
    "\n",
    "height_data = [178, 177, 176, 177, 178.2, 178, 175, 179, 180, 175, 178.9, 176.2, 177, 172.5, 178, 176.5]\n",
    "\n",
    "# Calculate the mean\n",
    "mean = statistics.mean(height_data)\n",
    "\n",
    "# Calculate the median\n",
    "median = statistics.median(height_data)\n",
    "\n",
    "# Calculate the mode\n",
    "try:\n",
    "    mode = statistics.mode(height_data)\n",
    "except statistics.StatisticsError:\n",
    "    mode = None\n",
    "\n",
    "print(\"Mean:\", mean)\n",
    "print(\"Median:\", median)\n",
    "print(\"Mode:\", mode)\n"
   ]
  },
  {
   "cell_type": "markdown",
   "id": "ab68aa9b-06e7-48ba-9454-ab662e3c7fc2",
   "metadata": {},
   "source": [
    "                      -------------------------------------------------------------------"
   ]
  },
  {
   "cell_type": "markdown",
   "id": "603d8454-0f91-4c58-9047-9330eaa2c9b0",
   "metadata": {},
   "source": [
    "Q4. Find the standard deviation for the given data:\n",
    "\n",
    "[178,177,176,177,178.2,178,175,179,180,175,178.9,176.2,177,172.5,178,176.5]"
   ]
  },
  {
   "cell_type": "code",
   "execution_count": 4,
   "id": "d01c6029-65e5-4fe4-aa1a-cd5c9feb57f6",
   "metadata": {},
   "outputs": [
    {
     "name": "stdout",
     "output_type": "stream",
     "text": [
      "Standard Deviation: 1.8472389305844188\n"
     ]
    }
   ],
   "source": [
    "#Answer\n",
    "\n",
    "import statistics\n",
    "\n",
    "data = [178, 177, 176, 177, 178.2, 178, 175, 179, 180, 175, 178.9, 176.2, 177, 172.5, 178, 176.5]\n",
    "\n",
    "# Calculate the standard deviation\n",
    "std_dev = statistics.stdev(data)\n",
    "\n",
    "print(\"Standard Deviation:\", std_dev)\n"
   ]
  },
  {
   "cell_type": "markdown",
   "id": "cefbaf43-6ff9-49ad-b189-2a56c6f188e8",
   "metadata": {},
   "source": [
    "                      -------------------------------------------------------------------"
   ]
  },
  {
   "cell_type": "markdown",
   "id": "d83dbde1-120b-428e-9820-73b17987c381",
   "metadata": {},
   "source": [
    "Q5. How are measures of dispersion such as range, variance, and standard deviation used to describe\n",
    "the spread of a dataset? Provide an example."
   ]
  },
  {
   "cell_type": "markdown",
   "id": "1086ebf7-ae1c-474d-b407-3ec9cb0fa379",
   "metadata": {},
   "source": [
    "#Answer\n",
    "\n",
    "Measures of dispersion, including range, variance, and standard deviation, are used to describe the spread or variability of a dataset. Here's how each measure is used and an example to illustrate their application:\n",
    "\n",
    "1. **Range**: The range measures the difference between the maximum and minimum values in a dataset. It provides a basic measure of dispersion but is sensitive to outliers.\n",
    "\n",
    "  \n",
    "\n",
    "2. **Variance**: The variance quantifies the average squared deviation of each data point from the mean. It considers the spread of all values in the dataset and is not solely based on the extreme values.\n",
    "\n",
    "\n",
    "\n",
    "3. **Standard Deviation**: The standard deviation is the square root of the variance. It provides a measure of dispersion that is in the same units as the original data, making it easier to interpret.\n",
    "\n"
   ]
  },
  {
   "cell_type": "code",
   "execution_count": 6,
   "id": "c67726a7-8ae8-46db-b04c-93fda859241d",
   "metadata": {},
   "outputs": [
    {
     "name": "stdout",
     "output_type": "stream",
     "text": [
      "Range: 17\n",
      "Variance: 44.8\n",
      "Standard Deviation: 6.6932802122726045\n"
     ]
    }
   ],
   "source": [
    "#EXAMPLE\n",
    "\n",
    "import statistics\n",
    "\n",
    "dataset = [65, 70, 72, 78, 82]\n",
    "\n",
    "# Calculate the range\n",
    "data_range = max(dataset) - min(dataset)\n",
    "\n",
    "# Calculate the variance\n",
    "variance = statistics.variance(dataset)\n",
    "\n",
    "# Calculate the standard deviation\n",
    "std_dev = statistics.stdev(dataset)\n",
    "\n",
    "print(\"Range:\", data_range)\n",
    "print(\"Variance:\", variance)\n",
    "print(\"Standard Deviation:\", std_dev)\n"
   ]
  },
  {
   "cell_type": "markdown",
   "id": "4bd56842-96dd-463e-9a53-abe5f7acc2c6",
   "metadata": {},
   "source": [
    "                       -------------------------------------------------------------------"
   ]
  },
  {
   "cell_type": "markdown",
   "id": "e5cfcd8a-e250-42a7-8424-c3a5f8fe7a69",
   "metadata": {},
   "source": [
    "Q6. What is a Venn diagram?"
   ]
  },
  {
   "cell_type": "markdown",
   "id": "63c54915-012f-49a4-be62-3ae2e0a10a45",
   "metadata": {},
   "source": [
    "#Answer\n",
    "\n",
    "A Venn diagram is a visual representation of the relationships between different sets or groups of items. It consists of overlapping circles or other closed curves that represent these sets. The overlapping areas of the circles show the common elements or intersections between the sets, while the non-overlapping areas represent the unique elements of each set.\n",
    "\n",
    "Venn diagrams are commonly used in mathematics, logic, statistics, and other fields to illustrate set relationships, logical operations, and data comparisons. They help in visualizing and understanding the overlap or differences between different categories or groups."
   ]
  },
  {
   "cell_type": "markdown",
   "id": "c195c9bd-aba6-49ad-a195-6b541eb54fb2",
   "metadata": {},
   "source": [
    "                        -------------------------------------------------------------------"
   ]
  },
  {
   "cell_type": "markdown",
   "id": "5fc337c5-1275-43b3-b31c-eb19fc48768e",
   "metadata": {},
   "source": [
    "Q7. For the two given sets A = (2,3,4,5,6,7) & B = (0,2,6,8,10). \n",
    "\n",
    "Find:\n",
    "(i) A∩B\n",
    "\n",
    "(ii) A ⋃ B"
   ]
  },
  {
   "cell_type": "code",
   "execution_count": 7,
   "id": "1ffe41ab-f4d7-444a-a557-f67626b7441a",
   "metadata": {},
   "outputs": [
    {
     "name": "stdout",
     "output_type": "stream",
     "text": [
      "Intersection (A ∩ B): {2, 6}\n",
      "Union (A ⋃ B): {0, 2, 3, 4, 5, 6, 7, 8, 10}\n"
     ]
    }
   ],
   "source": [
    "#Answer\n",
    "\n",
    "A = {2, 3, 4, 5, 6, 7}\n",
    "B = {0, 2, 6, 8, 10}\n",
    "\n",
    "# Intersection (A ∩ B)\n",
    "intersection = A.intersection(B)\n",
    "\n",
    "# Union (A ⋃ B)\n",
    "union = A.union(B)\n",
    "\n",
    "print(\"Intersection (A ∩ B):\", intersection)\n",
    "print(\"Union (A ⋃ B):\", union)\n"
   ]
  },
  {
   "cell_type": "markdown",
   "id": "16d82921-a616-4eae-b854-5bb4e1e1bda1",
   "metadata": {},
   "source": [
    "                        -------------------------------------------------------------------"
   ]
  },
  {
   "cell_type": "markdown",
   "id": "111ceec9-b575-4699-b81d-76762385f447",
   "metadata": {},
   "source": [
    "Q8. What do you understand about skewness in data?"
   ]
  },
  {
   "cell_type": "markdown",
   "id": "9991b417-d397-4f67-8796-f0364f7949ad",
   "metadata": {},
   "source": [
    "#Answer\n",
    "\n",
    "Skewness is a statistical measure that describes the asymmetry or lack of symmetry in a dataset's distribution. It provides information about the shape of the distribution curve.\n",
    "\n",
    "In a symmetrical distribution, the data is evenly distributed around the mean, resulting in a skewness value close to zero. However, when the distribution is skewed, the data tends to be concentrated on one side of the mean more than the other.\n",
    "\n",
    "Skewness can take on different values, indicating different types of skewness:\n",
    "\n",
    "1. **Positive Skewness (Right Skew)**: In a positively skewed distribution, the tail of the distribution extends towards the right, and the majority of the data is concentrated on the left side. The mean is typically larger than the median.\n",
    "\n",
    "2. **Negative Skewness (Left Skew)**: In a negatively skewed distribution, the tail of the distribution extends towards the left, and the majority of the data is concentrated on the right side. The mean is typically smaller than the median.\n"
   ]
  },
  {
   "cell_type": "markdown",
   "id": "42d0cf6f-0b0f-41b0-b49a-918ea423305a",
   "metadata": {},
   "source": [
    "                        -------------------------------------------------------------------"
   ]
  },
  {
   "cell_type": "markdown",
   "id": "4c25faaa-e417-4207-83f2-f8ef4f089142",
   "metadata": {},
   "source": [
    "Q9. If a data is right skewed then what will be the position of median with respect to mean?"
   ]
  },
  {
   "cell_type": "markdown",
   "id": "859fbc87-4d8c-403c-91a2-40cc923ea6a0",
   "metadata": {},
   "source": [
    "#Answer\n",
    "\n",
    "If a dataset is right-skewed (positively skewed), it means that the tail of the distribution is elongated towards the right side, and the majority of the data is concentrated on the left side. In such a case, the mean will typically be greater than the median.\n",
    "\n",
    "To understand why this occurs, consider the effect of outliers or extremely large values on the mean and median. In a right-skewed distribution, the presence of a few large values in the right tail pulls the mean towards the right, resulting in a higher mean value. However, the median is less affected by extreme values and is more resistant to skewness. It is determined by the position of the middle value in the dataset, rather than the actual values themselves. Therefore, the median tends to be closer to the bulk of the data, which is concentrated on the left side in a right-skewed distribution.\n",
    "\n",
    "In summary, in a right-skewed distribution:\n",
    "- The mean is typically greater than the median.\n",
    "- The median is closer to the bulk of the data and is less influenced by extreme values in the right tail."
   ]
  },
  {
   "cell_type": "markdown",
   "id": "a5438be6-6173-4a6a-9b26-6513601d6278",
   "metadata": {},
   "source": [
    "                        -------------------------------------------------------------------"
   ]
  },
  {
   "cell_type": "markdown",
   "id": "ec5387ff-8595-4495-b941-f61971c93d50",
   "metadata": {},
   "source": [
    "Q10. Explain the difference between covariance and correlation. How are these measures used in\n",
    "statistical analysis?"
   ]
  },
  {
   "cell_type": "markdown",
   "id": "39ed0e63-cfb5-45bd-bdc8-75f87a800ab5",
   "metadata": {},
   "source": [
    "#Answer\n",
    "\n",
    "Covariance and correlation are both measures used in statistical analysis to describe the relationship between two variables. However, they have some key differences in terms of interpretation and scale:\n",
    "\n",
    "1. **Covariance**:\n",
    "   - Covariance measures the extent to which two variables vary together. It indicates the direction (positive or negative) of the linear relationship between the variables and the magnitude of the relationship.\n",
    "   - Covariance can take any value, positive or negative, depending on the direction of the relationship. A positive covariance indicates a positive relationship (as one variable increases, the other tends to increase), while a negative covariance indicates a negative relationship (as one variable increases, the other tends to decrease).\n",
    "   - The magnitude of covariance is not standardized and depends on the units of the variables being measured. Therefore, it is difficult to compare covariance values across different datasets or variables.\n",
    "\n",
    "2. **Correlation**:\n",
    "   - Correlation is a standardized measure of the linear relationship between two variables. It indicates the strength and direction of the linear association between the variables.\n",
    "   - Correlation values range between -1 and +1. A correlation coefficient of +1 represents a perfect positive linear relationship, -1 represents a perfect negative linear relationship, and 0 represents no linear relationship.\n",
    "   - Correlation coefficients are not affected by the scale or units of measurement of the variables. This allows for easier comparison of the strength of relationships between different pairs of variables.\n",
    "   - Correlation does not imply causation, as it only measures the degree of linear association between variables.\n",
    "\n",
    "In statistical analysis, covariance and correlation are used to analyze the relationship between variables and understand patterns in the data. Some common uses include:\n",
    "\n",
    "- **Descriptive Statistics**: Covariance and correlation provide insights into the direction and strength of relationships between variables in a dataset.\n",
    "- **Feature Selection**: In feature selection techniques, correlation is used to identify highly correlated variables to avoid multicollinearity in regression models.\n",
    "- **Portfolio Management**: Covariance and correlation are used in finance to understand the relationships between different assets and diversify investment portfolios.\n",
    "- **Data Exploration**: Covariance and correlation matrices can help identify potential relationships and dependencies between variables, guiding further analysis and modeling decisions.\n",
    "\n",
    "Overall, while covariance measures the direction and magnitude of the relationship between variables, correlation provides a standardized measure of the strength and direction of the linear relationship, facilitating easier comparison and interpretation."
   ]
  },
  {
   "cell_type": "markdown",
   "id": "361d9849-fce9-47eb-9bae-989257a2c528",
   "metadata": {},
   "source": [
    "                        -------------------------------------------------------------------"
   ]
  },
  {
   "cell_type": "markdown",
   "id": "372b978d-9e80-448a-b49d-9bbed009a5bb",
   "metadata": {},
   "source": [
    "Q11. What is the formula for calculating the sample mean? Provide an example calculation for a\n",
    "dataset."
   ]
  },
  {
   "cell_type": "markdown",
   "id": "a8d71d8b-d7d8-42b1-a96f-dffb2086d788",
   "metadata": {},
   "source": [
    "#Answer\n",
    "\n",
    "The formula for calculating the sample mean (also known as the arithmetic mean) is as follows:\n",
    "\n",
    "Sample Mean = (Sum of all values in the dataset) / (Number of values in the dataset)\n",
    "\n",
    "To calculate the sample mean, we sum up all the values in the dataset and divide the sum by the total number of values."
   ]
  },
  {
   "cell_type": "code",
   "execution_count": 8,
   "id": "6afbd031-52ff-4650-9640-771ba7125269",
   "metadata": {},
   "outputs": [
    {
     "name": "stdout",
     "output_type": "stream",
     "text": [
      "Sample Mean: 20.0\n"
     ]
    }
   ],
   "source": [
    "dataset = [10, 15, 20, 25, 30]\n",
    "\n",
    "# Calculate the sum of all values in the dataset\n",
    "sum_values = sum(dataset)\n",
    "\n",
    "# Calculate the number of values in the dataset\n",
    "num_values = len(dataset)\n",
    "\n",
    "# Calculate the sample mean\n",
    "sample_mean = sum_values / num_values\n",
    "\n",
    "print(\"Sample Mean:\", sample_mean)\n"
   ]
  },
  {
   "cell_type": "markdown",
   "id": "cab8b8f7-216d-40dd-bdeb-a0612b7f086b",
   "metadata": {},
   "source": [
    "                        -------------------------------------------------------------------"
   ]
  },
  {
   "cell_type": "markdown",
   "id": "f7555616-350a-41bf-8ee6-afcbe6eed4f5",
   "metadata": {},
   "source": [
    "Q12. For a normal distribution data what is the relationship between its measure of central tendency?"
   ]
  },
  {
   "cell_type": "markdown",
   "id": "1a676ccd-3b03-41f3-b498-cc781b611c68",
   "metadata": {},
   "source": [
    "#Answer\n",
    "\n",
    "In a normal distribution, the measures of central tendency, namely the mean, median, and mode, are all equal or very close to each other. \n",
    "\n",
    "This equality arises due to the symmetrical nature of the normal distribution. In a perfectly symmetrical normal distribution, the mean, median, and mode are all located at the center of the distribution. \n",
    "\n",
    "Specifically, for a normal distribution:\n",
    "- The mean is located at the exact center of the distribution.\n",
    "- The median is also located at the exact center of the distribution.\n",
    "- The mode is the peak of the distribution, and in a normal distribution, the peak is located at the exact center. Therefore, the mode coincides with the mean and median.\n",
    "\n",
    "In summary, for a normal distribution, the mean, median, and mode are equal or very close to each other, as they are all centered at the peak of the distribution."
   ]
  },
  {
   "cell_type": "markdown",
   "id": "55c41b4e-4f99-4d0b-9a78-20431e8c6ab0",
   "metadata": {},
   "source": [
    "                        -------------------------------------------------------------------"
   ]
  },
  {
   "cell_type": "markdown",
   "id": "38929154-3186-4966-b2dc-dd55b6dde33a",
   "metadata": {},
   "source": [
    "Q13. How is covariance different from correlation?"
   ]
  },
  {
   "cell_type": "markdown",
   "id": "74f7a610-5be2-4d6a-ae6a-bdd9149f4ff9",
   "metadata": {},
   "source": [
    "#Answer\n",
    "\n",
    "Covariance and correlation are both measures used to assess the relationship between two variables, but they differ in several important aspects:\n",
    "\n",
    "1. **Definition**:\n",
    "   - Covariance measures the degree and direction of the linear relationship between two variables. It indicates how the variables vary together.\n",
    "   - Correlation measures the strength and direction of the linear relationship between two variables, while also being a standardized measure.\n",
    "\n",
    "2. **Scale**:\n",
    "   - Covariance is not scaled and depends on the units of the variables. The magnitude of covariance is influenced by the scale of the variables being measured.\n",
    "   - Correlation is a standardized measure, ranging from -1 to +1, that is not affected by the scale or units of the variables. It allows for easy comparison between different pairs of variables.\n",
    "\n",
    "3. **Interpretation**:\n",
    "   - Covariance does not have a specific interpretation in terms of strength. Its sign (+/-) indicates the direction of the relationship, but the magnitude does not have a clear interpretation.\n",
    "   - Correlation has a clear interpretation. A correlation coefficient of +1 represents a perfect positive linear relationship, -1 represents a perfect negative linear relationship, and 0 represents no linear relationship. The magnitude of the correlation coefficient indicates the strength of the relationship.\n",
    "\n",
    "4. **Standardization**:\n",
    "   - Covariance is not standardized and is influenced by the units of the variables.\n",
    "   - Correlation is standardized, making it useful for comparing the strength of relationships across different datasets or variables.\n",
    "\n",
    "5. **Range of Values**:\n",
    "   - Covariance can take any value, positive or negative, depending on the direction of the relationship.\n",
    "   - Correlation coefficients range between -1 and +1, providing a clear indication of the strength and direction of the relationship.\n",
    "\n",
    "In summary, covariance measures the degree and direction of the linear relationship between variables but is influenced by the scale and lacks a standardized interpretation. Correlation, on the other hand, standardizes the measure, making it more suitable for comparing relationships and providing a clear interpretation of the strength and direction of the linear relationship."
   ]
  },
  {
   "cell_type": "markdown",
   "id": "6b52e015-4cdb-40f9-a299-703ed325ecaa",
   "metadata": {},
   "source": [
    "                        -------------------------------------------------------------------"
   ]
  },
  {
   "cell_type": "markdown",
   "id": "e99e03a2-6637-46ea-8ab6-992d0c569a90",
   "metadata": {},
   "source": [
    "Q14. How do outliers affect measures of central tendency and dispersion? Provide an example."
   ]
  },
  {
   "cell_type": "markdown",
   "id": "0917e852-1636-4bc3-9eeb-2be9210b7391",
   "metadata": {},
   "source": [
    "#Answer\n",
    "\n",
    "\n",
    "Outliers can have a significant impact on measures of central tendency and dispersion in a dataset. Here's how outliers affect these measures:\n",
    "\n",
    "Measures of Central Tendency:\n",
    "\n",
    "Outliers can heavily influence the mean (arithmetic average). Since the mean takes into account all values in the dataset, even a single extreme outlier can significantly shift the mean towards its direction.\n",
    "The median, however, is more robust to outliers. It represents the middle value in the dataset when arranged in ascending or descending order. Outliers have little effect on the median unless they are extreme and significantly affect the ordering of the data.\n",
    "The mode, which represents the most frequently occurring value(s), may not be affected by outliers unless the outliers are also the most frequently occurring values.\n",
    "Measures of Dispersion:\n",
    "\n",
    "Outliers can dramatically impact measures of dispersion, such as the range, variance, and standard deviation.\n",
    "The range, which is the difference between the maximum and minimum values, can be heavily influenced by outliers if they are far apart from the rest of the data.\n",
    "The variance and standard deviation are calculated based on the squared differences between each value and the mean. Outliers, particularly those far from the mean, can increase the variability and inflate these measures.\n",
    "The interquartile range (IQR), which is the difference between the first quartile (Q1) and third quartile (Q3), is relatively resistant to outliers since it focuses on the middle 50% of the data."
   ]
  },
  {
   "cell_type": "code",
   "execution_count": 9,
   "id": "357a1aa7-70a4-4176-ae0d-86ce79ec8b83",
   "metadata": {},
   "outputs": [
    {
     "name": "stdout",
     "output_type": "stream",
     "text": [
      "Mean: 41.5\n",
      "Median: 31.0\n",
      "Mode: 25\n",
      "Range: 75\n",
      "Variance: 692.5833333333334\n",
      "Standard Deviation: 26.31697804333418\n",
      "Interquartile Range (IQR): 5.0\n"
     ]
    }
   ],
   "source": [
    "#Example\n",
    "\n",
    "import numpy as np\n",
    "\n",
    "# Create a dataset with an outlier\n",
    "ages = np.array([25, 28, 30, 32, 34, 100])\n",
    "\n",
    "# Calculate measures of central tendency\n",
    "mean_age = np.mean(ages)\n",
    "median_age = np.median(ages)\n",
    "mode_age = np.argmax(np.bincount(ages))  # Mode calculation using bincount\n",
    "\n",
    "# Calculate measures of dispersion\n",
    "range_age = np.ptp(ages)\n",
    "variance_age = np.var(ages)\n",
    "std_deviation_age = np.std(ages)\n",
    "iqr_age = np.percentile(ages, 75) - np.percentile(ages, 25)\n",
    "\n",
    "# Print the results\n",
    "print(\"Mean:\", mean_age)\n",
    "print(\"Median:\", median_age)\n",
    "print(\"Mode:\", mode_age)\n",
    "print(\"Range:\", range_age)\n",
    "print(\"Variance:\", variance_age)\n",
    "print(\"Standard Deviation:\", std_deviation_age)\n",
    "print(\"Interquartile Range (IQR):\", iqr_age)\n"
   ]
  },
  {
   "cell_type": "markdown",
   "id": "0c7a1a8d-a3cb-4cb0-836e-0aa1cbbb2a69",
   "metadata": {},
   "source": [
    "In this example, the dataset contains the ages of individuals, with an outlier value of 100. As you can see, the mean (41.5) is heavily influenced by the outlier, while the median (31.0) remains unaffected. The mode (25) is the most frequently occurring value and is not affected by the outlier.\n",
    "\n",
    "The range increases significantly due to the outlier (75), while the variance and standard deviation also increase. However, the interquartile range (IQR) remains relatively unaffected since it focuses on the middle 50% of the data."
   ]
  },
  {
   "cell_type": "markdown",
   "id": "bcfe6cc2-d703-4edc-a85a-f787b5b12e2f",
   "metadata": {},
   "source": [
    "                        -------------------------------------------------------------------"
   ]
  }
 ],
 "metadata": {
  "kernelspec": {
   "display_name": "Python 3 (ipykernel)",
   "language": "python",
   "name": "python3"
  },
  "language_info": {
   "codemirror_mode": {
    "name": "ipython",
    "version": 3
   },
   "file_extension": ".py",
   "mimetype": "text/x-python",
   "name": "python",
   "nbconvert_exporter": "python",
   "pygments_lexer": "ipython3",
   "version": "3.10.8"
  }
 },
 "nbformat": 4,
 "nbformat_minor": 5
}
